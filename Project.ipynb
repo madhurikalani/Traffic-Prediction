{
 "cells": [
  {
   "cell_type": "markdown",
   "metadata": {},
   "source": [
    "#### Format for uploading the data for the project:\n",
    "#####  --- “day_type”,“year”,“month”, “day”,“hour”,“minute”,“ID”, “district”,“HWNum”,“HWDIR”,“type”,“length”,“samples”,“obs_perc”,“tot_flow”,“avg_occ”,“avg_speed”\n",
    "#### 5-min interval\n",
    "#### Sensor number: 400868\n",
    "#### Threshold: \n",
    "#####  --- 0 for less than 20 perc\n",
    "#####  --- 1 for between 20 perc and 40 perc\n",
    "#####  --- 2 for 40 perc and above\n",
    "#### Day Type:\n",
    "#####  --- 1 for holiday\n",
    "#####  --- 2 for weekend\n",
    "#####  --- 3 for weekday\n",
    "#####  --- 4 for day before holiday\n",
    "#### Consider decision tree and bi-nomial logistic"
   ]
  },
  {
   "cell_type": "markdown",
   "metadata": {},
   "source": [
    "#### The columns we want are\n",
    "####    --- day_type(int), time(hour*100+minute), avg_occupancy\n",
    "#### Madhuri - To Pull and Prepare two data sets --- training and test - DONE\n",
    "#### Training dataset has 8064 rows\n",
    "#### Test dataset has 5184 rows"
   ]
  },
  {
   "cell_type": "code",
   "execution_count": 3,
   "metadata": {},
   "outputs": [],
   "source": [
    "import pandas as pd\n",
    "import numpy as np\n",
    "\n",
    "MKtestRDD = sc.textFile(\"FileStore/tables/ha42p3kl1497485936953/MKtestDF.csv\")\n",
    "MKtrainingRDD = sc.textFile(\"/FileStore/tables/m0nlr27z1497924341940/MKtrainingDF.csv\")\n",
    "CintrainingRDD= sc.textFile(\"/FileStore/tables/4byv2yff1497333673791/training_mon_tue.csv\")\n",
    "CinTestRDD = sc.textFile(\"/FileStore/tables/5bp87o0a1497333538641/test_mon_tue.csv\")\n",
    "YuetestRDD=sc.textFile(\"/FileStore/tables/ha42p3kl1497485936953/YuetestRDD.csv\")\n",
    "YuetrainRDD=sc.textFile(\"/FileStore/tables/ha42p3kl1497485936953/YuetrainRDD.csv\")\n",
    "RohanTrainingRDD = sc.textFile(\"FileStore/tables/RBtrainingDF.csv\")\n",
    "RohanTestRDD = sc.textFile(\"FileStore/tables/RBtestDF.csv\")\n",
    "\n",
    "MKtrainingRDD.take(500)\n",
    "##CintrainingRDD.count()\n"
   ]
  },
  {
   "cell_type": "code",
   "execution_count": 4,
   "metadata": {},
   "outputs": [],
   "source": [
    "RDDtrain = MKtrainingRDD.union(CintrainingRDD).union(YuetrainRDD).union(RohanTrainingRDD)\n",
    "RDDtrain.count()"
   ]
  },
  {
   "cell_type": "code",
   "execution_count": 5,
   "metadata": {},
   "outputs": [],
   "source": [
    "RDDtest = MKtestRDD.union(CinTestRDD).union(YuetestRDD).union(RohanTestRDD)\n",
    "##RDDtrain.take(20)\n",
    "RDDtest.count()"
   ]
  },
  {
   "cell_type": "code",
   "execution_count": 6,
   "metadata": {},
   "outputs": [],
   "source": [
    "import pandas as pd\n",
    "from pyspark.sql import Row\n",
    "\n",
    "traint= RDDtrain.map(lambda x:x.split(\",\")).map(lambda x:x[0:17])\n",
    "traint = traint.map(lambda x: (x[0],x[1],x[2],x[3],int(x[4]),x[5],x[6],x[7],x[8],x[9],x[10],x[11],x[12],x[13],x[14],x[15],x[16]))\n",
    "traint.take(5)\n",
    "trainDF = traint.toDF([\"day_type\",\"year\",\"month\",\"day\",\"hour\",\"minute\",\"ID\", \"district\",\"HWNum\",\"HWDIR\",\"type\",\"length\",\"samples\",\"obs_perc\",\"tot_flow\",\"avg_occ\",\"avg_speed\"])\n",
    "display(trainDF)"
   ]
  },
  {
   "cell_type": "code",
   "execution_count": 7,
   "metadata": {},
   "outputs": [],
   "source": [
    "import pandas as pd\n",
    "from pyspark.sql import Row\n",
    "\n",
    "testt= RDDtest.map(lambda x:x.split(\",\")).map(lambda x:x[0:17])\n",
    "testt = testt.map(lambda x: (x[0],x[1],x[2],x[3],int(x[4]),x[5],x[6],x[7],x[8],x[9],x[10],x[11],x[12],x[13],x[14],float(x[15]),x[16]))\n",
    "testt.take(5)\n",
    "testDF = testt.toDF([\"day_type\",\"year\",\"month\",\"day\",\"hour\",\"minute\",\"ID\", \"district\",\"HWNum\",\"HWDIR\",\"type\",\"length\",\"samples\",\"obs_perc\",\"tot_flow\",\"avg_occ\",\"avg_speed\"])\n",
    "display(testDF)"
   ]
  },
  {
   "cell_type": "code",
   "execution_count": 8,
   "metadata": {},
   "outputs": [],
   "source": [
    "trainingDF = trainDF.toPandas()\n",
    "testingDF = testDF.toPandas()\n",
    "trainingDF.to_csv('/dbfs/FileStore/tables/training.csv', sep=',', header=False, index=False)\n",
    "testingDF.to_csv('/dbfs/FileStore/tables/test.csv', sep=',', header=False, index=False)\n",
    "display(dbutils.fs.ls(\"/FileStore/tables/\"))"
   ]
  }
 ],
 "metadata": {
  "kernelspec": {
   "display_name": "Python 3",
   "language": "python",
   "name": "python3"
  },
  "language_info": {
   "codemirror_mode": {
    "name": "ipython",
    "version": 3
   },
   "file_extension": ".py",
   "mimetype": "text/x-python",
   "name": "python",
   "nbconvert_exporter": "python",
   "pygments_lexer": "ipython3",
   "version": "3.6.4"
  },
  "name": "Project",
  "notebookId": 4058803568748837
 },
 "nbformat": 4,
 "nbformat_minor": 1
}
